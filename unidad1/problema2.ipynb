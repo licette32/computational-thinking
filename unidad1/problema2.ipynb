{
 "cells": [
  {
   "cell_type": "markdown",
   "metadata": {},
   "source": [
    "## Camino a casa\n",
    "\n",
    "¿podés escribir un algoritmo que guíe al personaje a su casa por el camino más corto (en cantidad de instrucciones)?\n",
    "\n",
    "\n",
    "![imagen del ejercicio](img/ejercicio2.png)"
   ]
  },
  {
   "cell_type": "markdown",
   "metadata": {},
   "source": [
    "```\n",
    "Inicio\n",
    "   |\n",
    "   |---> Solicitar: dirección inicial del automóvil\n",
    "   |\n",
    "   |---> Solicitar: camino o número de cruces\n",
    "   |\n",
    "   |---> Mientras no llegue a la casa:\n",
    "   |         |\n",
    "   |         |---> Verificar si la orientación actual es correcta para avanzar\n",
    "   |         |         |\n",
    "   |         |         |---> Si está alineado: Ejecutar instrucción \"A\" (avanzar)\n",
    "   |         |         |\n",
    "   |         |         |---> Si no está alineado:\n",
    "   |         |               |\n",
    "   |         |               |---> Solicitar giro necesario: \n",
    "   |         |               |         |\n",
    "   |         |               |         |---> Si es giro a la izquierda: Ejecutar \"I\" (girar a la izquierda)\n",
    "   |         |               |         |\n",
    "   |         |               |         |---> Si es giro a la derecha: Ejecutar \"D\" (girar a la derecha)\n",
    "   |         |               |\n",
    "   |         |               |---> Volver a verificar la posición después del giro\n",
    "   |\n",
    "   |---> Mostrar: Llegada a la casa (fin del recorrido)\n",
    "   |\n",
    "Fin\n",
    "```"
   ]
  },
  {
   "cell_type": "code",
   "execution_count": 12,
   "metadata": {},
   "outputs": [
    {
     "name": "stdout",
     "output_type": "stream",
     "text": [
      "Algoritmo para llegar al objetivo (ejemplo del pino solitario):\n",
      "A, A, A, I, A, A, A\n"
     ]
    }
   ],
   "source": [
    "def guiar_robot_casa():\n",
    "    \"\"\"\n",
    "    Devuelve una lista de instrucciones para guiar el robot a la casa\n",
    "    basándose en la imagen proporcionada (y asumiendo que el objetivo\n",
    "    es el \"ÁRBOL SOLITARIO\" como en el ejemplo).\n",
    "\n",
    "    Las instrucciones son:\n",
    "    'I': girar 90° a la izquierda.\n",
    "    'D': girar 90° a la derecha.\n",
    "    'A': avanzar hasta el próximo cruce.\n",
    "    \"\"\"\n",
    "    # Basándonos en el ejemplo del pino solitario, este es el algoritmo:\n",
    "    instrucciones = ['A', 'A', 'A', 'I', 'A', 'A', 'A']\n",
    "    return instrucciones\n",
    "\n",
    "if __name__ == \"__main__\":\n",
    "    algoritmo = guiar_robot_casa()\n",
    "    print(\"Algoritmo para llegar al objetivo (ejemplo del pino solitario):\")\n",
    "    print(\", \".join(algoritmo))"
   ]
  },
  {
   "cell_type": "code",
   "execution_count": 10,
   "metadata": {},
   "outputs": [],
   "source": [
    "import matplotlib.pyplot as plt\n",
    "import numpy as np\n"
   ]
  },
  {
   "cell_type": "code",
   "execution_count": 11,
   "metadata": {},
   "outputs": [
    {
     "data": {
      "image/png": "[encoded data removed]",
      "text/plain": [
       "<Figure size 600x600 with 1 Axes>"
      ]
     },
     "metadata": {},
     "output_type": "display_data"
    }
   ],
   "source": [
    "# Posible camino\n",
    "\n",
    "# Definir las coordenadas del recorrido\n",
    "x = [0, 0, 0, 1, 1, 1, 2, 2, 2, 3]\n",
    "y = [3, 2, 1, 1, 2, 3, 3, 2, 1, 1]\n",
    "\n",
    "# Crear la figura y los ejes\n",
    "fig, ax = plt.subplots(figsize=(6, 6))\n",
    "ax.plot(x, y, marker='o', linestyle='-', color='b', markersize=8)\n",
    "\n",
    "# Dibujar flechas en el recorrido\n",
    "for i in range(len(x) - 1):\n",
    "    dx = x[i + 1] - x[i]\n",
    "    dy = y[i + 1] - y[i]\n",
    "    ax.arrow(x[i], y[i], dx * 0.8, dy * 0.8, head_width=0.2, head_length=0.2, fc='r', ec='r')\n",
    "\n",
    "# Etiquetas\n",
    "ax.text(0, 3, 'Inicio', fontsize=12, ha='right', color='green')\n",
    "ax.text(3, 1, 'Casa', fontsize=12, ha='left', color='red')\n",
    "\n",
    "# Configurar el gráfico\n",
    "ax.set_xticks(range(4))\n",
    "ax.set_yticks(range(4))\n",
    "ax.set_xlim(-1, 4)\n",
    "ax.set_ylim(-1, 4)\n",
    "ax.grid(True)\n",
    "\n",
    "plt.title(\"Recorrido del Auto\")\n",
    "plt.show()\n"
   ]
  }
 ],
 "metadata": {
  "kernelspec": {
   "display_name": "Python 3",
   "language": "python",
   "name": "python3"
  },
  "language_info": {
   "codemirror_mode": {
    "name": "ipython",
    "version": 3
   },
   "file_extension": ".py",
   "mimetype": "text/x-python",
   "name": "python",
   "nbconvert_exporter": "python",
   "pygments_lexer": "ipython3",
   "version": "3.10.0"
  }
 },
 "nbformat": 4,
 "nbformat_minor": 2
}
